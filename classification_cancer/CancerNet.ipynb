{
 "cells": [
  {
   "cell_type": "code",
   "execution_count": 53,
   "id": "b409c7fc-b548-4d7a-8905-bbd5b26b999d",
   "metadata": {},
   "outputs": [],
   "source": [
    "import numpy as np\n",
    "import os\n",
    "import glob\n",
    "import torch\n",
    "import matplotlib.image as mpimg\n",
    "from pathlib import Path\n",
    "import matplotlib.pyplot as plt\n",
    "from skimage import transform\n",
    "from sklearn.model_selection import train_test_split\n",
    "data_path=Path('/Users/maksimtrebusinin/Desktop/Cancer_data')\n",
    "list_dir=os.listdir(data_path)[1:]\n",
    "from sklearn.metrics import accuracy_score, confusion_matrix\n",
    "import seaborn as sns\n",
    "import time\n",
    "from torch.utils.data import DataLoader, TensorDataset"
   ]
  },
  {
   "cell_type": "code",
   "execution_count": 2,
   "id": "067b3878-a987-4d17-8e89-3830cd6c9f1d",
   "metadata": {},
   "outputs": [],
   "source": [
    "X=list()\n",
    "y=[0]*4000\n",
    "index=0\n",
    "for i, column_name in enumerate(list_dir):\n",
    "    for img_path in glob.iglob(os.path.join(data_path, column_name, '*')):\n",
    "        X.append(np.asarray(mpimg.imread(img_path)))\n",
    "        y[index]=i\n",
    "        index+=1\n",
    "#0 is Healthy\n",
    "#1 is Melanoma\n",
    "#2 is Bascal cell carcioma\n",
    "#3 is Squamous cell carcinoma\n",
    "y=np.array(y)\n",
    "transfrom_X=[transform.resize(image, (159,159,3)) for image in X]"
   ]
  },
  {
   "cell_type": "code",
   "execution_count": 16,
   "id": "af5e8e8a-f8ff-4327-8aa6-fde482713f6b",
   "metadata": {},
   "outputs": [
    {
     "name": "stderr",
     "output_type": "stream",
     "text": [
      "/var/folders/jk/827xc8pj2fg1hy5mtf1fl1xh0000gn/T/ipykernel_59079/1508546652.py:4: UserWarning: Creating a tensor from a list of numpy.ndarrays is extremely slow. Please consider converting the list to a single numpy.ndarray with numpy.array() before converting to a tensor. (Triggered internally at /Users/runner/work/pytorch/pytorch/pytorch/torch/csrc/utils/tensor_new.cpp:281.)\n",
      "  X_train_tensor=torch.FloatTensor(X_train)\n"
     ]
    }
   ],
   "source": [
    "# train and test selections\n",
    "X_train, X_test, y_train, y_test = train_test_split(transfrom_X, y, test_size=0.25, stratify=y,\n",
    "                                                    random_state=42)\n",
    "X_train_tensor=torch.FloatTensor(X_train)\n",
    "X_test_tensor=torch.FloatTensor(X_test)\n",
    "y_train_tensor=torch.from_numpy(y_train)\n",
    "y_test_tensor=torch.from_numpy(y_test)\n",
    "\n",
    "X_train_tensor=X_train_tensor.reshape(3000, 3, 159, 159)\n",
    "X_test_tensor=X_test_tensor.reshape(1000, 3, 159, 159)"
   ]
  },
  {
   "cell_type": "code",
   "execution_count": 51,
   "id": "430a782b-1606-461c-bd94-cbdf57b777bd",
   "metadata": {},
   "outputs": [],
   "source": [
    "class CancerNet(torch.nn.Module):\n",
    "    def __init__(self):\n",
    "        super(CancerNet, self).__init__()\n",
    "\n",
    "        self.conv1 = torch.nn.Conv2d(in_channels=3, out_channels=30, kernel_size=4)\n",
    "        self.pool1 = torch.nn.MaxPool2d(kernel_size=2, stride=2)\n",
    "        self.act1 = torch.nn.ReLU()\n",
    "\n",
    "        self.conv2 = torch.nn.Conv2d(in_channels=30, out_channels=60, kernel_size=3, padding=1)\n",
    "        self.pool2 = torch.nn.MaxPool2d(kernel_size=2, stride=2)\n",
    "        self.act2 = torch.nn.ReLU()\n",
    "\n",
    "        self.conv3 = torch.nn.Conv2d(in_channels=60, out_channels=120, kernel_size=2)\n",
    "        self.pool3 = torch.nn.MaxPool2d(kernel_size=2, stride=2)\n",
    "        self.act3 = torch.nn.ReLU()\n",
    "\n",
    "        self.conv4 = torch.nn.Conv2d(in_channels=120, out_channels=80, kernel_size=3, padding=1)\n",
    "        self.pool4 = torch.nn.MaxPool2d(kernel_size=2, stride=2)\n",
    "        self.act4 = torch.nn.ReLU()\n",
    "\n",
    "        self.conv5 = torch.nn.Conv2d(in_channels=80, out_channels=30, kernel_size=3, padding=1)\n",
    "        self.act5 = torch.nn.ReLU()\n",
    "\n",
    "        # Добавляем Dropout после последней активации перед полносвязным слоем\n",
    "        self.dropout1 = torch.nn.Dropout(p=0.5)  # 50% случайных обнулений\n",
    "\n",
    "        self.fc1 = torch.nn.Linear(9*9*30, 200)\n",
    "        self.act6 = torch.nn.ReLU()\n",
    "        self.dropout2 = torch.nn.Dropout(p=0.5)  # 50% Dropout на скрытом слое\n",
    "        self.fc2 = torch.nn.Linear(200, 4)\n",
    "        self.sm = torch.nn.Softmax(dim=1)\n",
    "\n",
    "    def forward(self, x):\n",
    "        x = self.conv1(x)\n",
    "        x = self.pool1(x)\n",
    "        x = self.act1(x)\n",
    "        x = self.conv2(x)\n",
    "        x = self.pool2(x)\n",
    "        x = self.act2(x)\n",
    "        x = self.conv3(x)\n",
    "        x = self.pool3(x)\n",
    "        x = self.act3(x)\n",
    "        x = self.conv4(x)\n",
    "        x = self.pool4(x)\n",
    "        x = self.act4(x)\n",
    "        x = self.conv5(x)\n",
    "        x = self.act5(x)\n",
    "\n",
    "        # Применяем Dropout после всех сверток и активаций\n",
    "        x = self.dropout1(x)\n",
    "\n",
    "        x = x.view(x.size(0), x.size(1) * x.size(2) * x.size(3))  # Преобразуем в вектор для подачи на fc\n",
    "\n",
    "        x = self.fc1(x)\n",
    "        x = self.act6(x)\n",
    "        \n",
    "        # Применяем Dropout после первого полносвязного слоя\n",
    "        x = self.dropout2(x)\n",
    "\n",
    "        x = self.fc2(x)\n",
    "        return x\n",
    "\n",
    "    def inference(self, x):\n",
    "        x = self.forward(x)\n",
    "        x = self.sm(x)\n",
    "        return x\n"
   ]
  },
  {
   "cell_type": "code",
   "execution_count": 52,
   "id": "627c58d2-6826-43d7-8fb5-e027b8bbcc3b",
   "metadata": {},
   "outputs": [],
   "source": [
    "cancer_net=CancerNet()\n",
    "loss=torch.nn.CrossEntropyLoss()\n",
    "optimizer=torch.optim.Adam(cancer_net.parameters(), lr=0.001)"
   ]
  },
  {
   "cell_type": "code",
   "execution_count": 47,
   "id": "b46cbc64-1fbb-4db2-9486-0f587dfd9a41",
   "metadata": {},
   "outputs": [],
   "source": [
    "def train_model(model, X_tr, y_tr, epoch, batch_size, opt, loss_fn):\n",
    "    start_time = time.time()  # Начинаем отсчёт времени\n",
    "    \n",
    "    # Преобразуем данные в TensorDataset и используем DataLoader\n",
    "    dataset = TensorDataset(X_tr, y_tr)\n",
    "    train_loader = DataLoader(dataset, batch_size=batch_size, shuffle=True)\n",
    "    \n",
    "    # Инициализация переменных для отслеживания потерь\n",
    "    for ep in range(epoch):\n",
    "        epoch_start_time = time.time()\n",
    "        total_loss = 0.0  # Сумма потерь за одну эпоху\n",
    "        model.train()  # Устанавливаем модель в режим тренировки\n",
    "\n",
    "        for X_batch, y_batch in train_loader:\n",
    "            opt.zero_grad()\n",
    "\n",
    "            # Прогоняем батч через модель\n",
    "            pred = model(X_batch)\n",
    "            \n",
    "            # Вычисляем потерю\n",
    "            loss_value = loss_fn(pred, y_batch)\n",
    "            total_loss += loss_value.item()\n",
    "\n",
    "            # Обратное распространение и шаг оптимизации\n",
    "            loss_value.backward()\n",
    "            opt.step()\n",
    "\n",
    "        epoch_end_time = time.time()\n",
    "        epoch_duration = epoch_end_time - epoch_start_time\n",
    "        hours, rem = divmod(epoch_duration, 3600)\n",
    "        minutes, seconds = divmod(rem, 60)\n",
    "\n",
    "        # Выводим статистику о потере и времени\n",
    "        print(f\"Epoch {ep + 1}/{epoch}, Loss: {total_loss / len(train_loader):.4f}, Time: {int(hours)}h {int(minutes)}m {int(seconds)}s\")\n",
    "    \n",
    "    total_duration = time.time() - start_time  # Общее время тренировки\n",
    "    hours, rem = divmod(total_duration, 3600)\n",
    "    minutes, seconds = divmod(rem, 60)\n",
    "    \n",
    "    print(f\"Training completed in: {int(hours)}h {int(minutes)}m {int(seconds)}s\")\n",
    "\n",
    "def predict(model, X_test):\n",
    "    model.eval()  # Переводим модель в режим инференса (выключается Dropout и BatchNorm)\n",
    "    with torch.no_grad():  # Отключаем вычисление градиентов\n",
    "        X_test_tensor = torch.Tensor(X_test)  # Преобразуем тестовые данные в Tensor\n",
    "        predictions = model(X_test_tensor)  # Получаем прогнозы\n",
    "        return predictions"
   ]
  },
  {
   "cell_type": "code",
   "execution_count": 48,
   "id": "f5803688-b67c-44c2-a9a1-aa31c8f51b93",
   "metadata": {},
   "outputs": [
    {
     "name": "stdout",
     "output_type": "stream",
     "text": [
      "Epoch 1/10, Loss: 911.9356, Time: 0h 0m 19s\n",
      "Epoch 2/10, Loss: 876.6230, Time: 0h 0m 19s\n",
      "Epoch 3/10, Loss: 847.8742, Time: 0h 0m 19s\n",
      "Epoch 4/10, Loss: 807.8996, Time: 0h 0m 19s\n",
      "Epoch 5/10, Loss: 782.9124, Time: 0h 0m 19s\n",
      "Epoch 6/10, Loss: 743.1234, Time: 0h 0m 19s\n",
      "Epoch 7/10, Loss: 708.5635, Time: 0h 0m 19s\n",
      "Epoch 8/10, Loss: 668.7903, Time: 0h 0m 19s\n",
      "Epoch 9/10, Loss: 631.5217, Time: 0h 0m 19s\n",
      "Epoch 10/10, Loss: 600.7108, Time: 0h 0m 19s\n",
      "Training completed in: 0h 3m 15s\n"
     ]
    }
   ],
   "source": [
    "train_model(cancer_net, X_train_tensor,y_train_tensor, 10, 2, optimizer, loss)"
   ]
  },
  {
   "cell_type": "code",
   "execution_count": 27,
   "id": "05b24bbb-a23e-42f0-9232-9ce4b44fb58d",
   "metadata": {},
   "outputs": [],
   "source": [
    "def metrics(y_true, y_pred):\n",
    "    print('Accuracy score:', accuracy_score(y_true, y_pred))\n",
    "    mat=confusion_matrix(y_true, y_pred)\n",
    "    sns.heatmap(mat, annot=True, fmt='d', cmap='coolwarm')"
   ]
  },
  {
   "cell_type": "code",
   "execution_count": 49,
   "id": "40edcf61-69fd-4dd6-bfc1-d43969953885",
   "metadata": {},
   "outputs": [
    {
     "name": "stdout",
     "output_type": "stream",
     "text": [
      "Accuracy score: 0.646\n"
     ]
    },
    {
     "data": {
      "image/png": "[encoded data removed]",
      "text/plain": [
       "<Figure size 640x480 with 2 Axes>"
      ]
     },
     "metadata": {},
     "output_type": "display_data"
    }
   ],
   "source": [
    "y_pred = predict(X_test_tensor)\n",
    "metrics(np.array(y_test_tensor), y_pred)"
   ]
  },
  {
   "cell_type": "code",
   "execution_count": null,
   "id": "4f0e4399-8210-4f7a-b7e9-5c79b2f59d6c",
   "metadata": {},
   "outputs": [],
   "source": []
  },
  {
   "cell_type": "code",
   "execution_count": null,
   "id": "52bc42cf-6e0a-4c47-be4a-bb7100cd8046",
   "metadata": {},
   "outputs": [],
   "source": []
  }
 ],
 "metadata": {
  "kernelspec": {
   "display_name": "Python 3 (ipykernel)",
   "language": "python",
   "name": "python3"
  },
  "language_info": {
   "codemirror_mode": {
    "name": "ipython",
    "version": 3
   },
   "file_extension": ".py",
   "mimetype": "text/x-python",
   "name": "python",
   "nbconvert_exporter": "python",
   "pygments_lexer": "ipython3",
   "version": "3.11.7"
  }
 },
 "nbformat": 4,
 "nbformat_minor": 5
}
